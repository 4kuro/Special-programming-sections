{
 "cells": [
  {
   "cell_type": "markdown",
   "metadata": {},
   "source": [
    "<H1>Лабораторна робота 2</H1>"
   ]
  },
  {
   "cell_type": "code",
   "execution_count": 3,
   "metadata": {},
   "outputs": [],
   "source": [
    "#імпортуємо необхідні бібліотеки\n",
    "import urllib.request as urllib2\n",
    "import pandas as pd\n",
    "from datetime import datetime, date\n",
    "import os\n",
    "import glob"
   ]
  },
  {
   "cell_type": "markdown",
   "metadata": {},
   "source": [
    "Визначаємо допоміжні функції для завантаження даних"
   ]
  },
  {
   "cell_type": "code",
   "execution_count": 4,
   "metadata": {},
   "outputs": [],
   "source": [
    "#повертає поточну дату у потріному форматі\n",
    "def get_date():\n",
    "    return date.today()\n",
    "\n",
    "#повертає поточний час у потрібному форматі\n",
    "def get_time():\n",
    "    return datetime.now().strftime(\"%H-%M-%S\")\n",
    "\n",
    "#створює ім'я для завантаженого файлу\n",
    "def get_file_name(region_number):\n",
    "    current_date = get_date()\n",
    "    current_time = get_time()\n",
    "    return f'vhi_id_{region_number}_{current_date}_{current_time}.csv'\n",
    "\n",
    "#видаляє з завантажених даних непотрібний текст\n",
    "def preprocess_data(data):\n",
    "    temp = str(data).split('\\\\n')[1:-1]\n",
    "    temp[0] = temp[0][:-4]\n",
    "    temp[1] = temp[1][9:]\n",
    "    return '\\n'.join(temp)"
   ]
  },
  {
   "cell_type": "markdown",
   "metadata": {},
   "source": [
    "Тепер створюємо функцію для завантаження даних. Параметром є номер області"
   ]
  },
  {
   "cell_type": "code",
   "execution_count": 5,
   "metadata": {},
   "outputs": [],
   "source": [
    "def download_data(region_number):\n",
    "    url = f\"https://www.star.nesdis.noaa.gov/smcd/emb/vci/VH/get_TS_admin.php?country=UKR&provinceID={region_number}&year1=1981&year2=2024&type=Mean\"\n",
    "    vhi_url = urllib2.urlopen(url)\n",
    "\n",
    "    data = vhi_url.read()\n",
    "    preprocessed_data = preprocess_data(data)\n",
    "\n",
    "    file_name = get_file_name(region_number)\n",
    "    if not os.path.exists('data'):\n",
    "        os.mkdir('data')\n",
    "    output_file = open(f'data/{file_name}', 'w')\n",
    "    output_file.write(preprocessed_data)\n",
    "    output_file.close()"
   ]
  },
  {
   "cell_type": "markdown",
   "metadata": {},
   "source": [
    "Завантажимо дані для кожної з 27 областей"
   ]
  },
  {
   "cell_type": "code",
   "execution_count": 6,
   "metadata": {},
   "outputs": [],
   "source": [
    "regions_number = 27\n",
    "for region_number in range(1, regions_number + 1):\n",
    "    download_data(region_number)"
   ]
  },
  {
   "cell_type": "markdown",
   "metadata": {},
   "source": [
    "Визначаємо функцію для читання завантажених даних. Параметром є шлях до директорії з файлами"
   ]
  },
  {
   "cell_type": "code",
   "execution_count": 7,
   "metadata": {},
   "outputs": [],
   "source": [
    "#допоміжна функція для додавання індексу регіона у фрейм\n",
    "def get_region_idex(full_path, directory_path):\n",
    "    fragment = full_path[len(directory_path) + 7:]\n",
    "    return int(fragment[:fragment.index('_')])\n",
    "\n",
    "def read_data(directory_path='./data/'):\n",
    "    dfs = []\n",
    "    for path in glob.glob(os.path.join(directory_path, '*.csv')):\n",
    "        df = pd.read_csv(path, index_col=False)\n",
    "        df['region_index'] = get_region_idex(path, directory_path)\n",
    "        df.rename(columns={' SMN': 'SMN', ' VHI': 'VHI'}, inplace=True)\n",
    "        df = df[df['VHI'] != -1]\n",
    "        dfs.append(df)\n",
    "    return pd.concat(dfs)"
   ]
  },
  {
   "cell_type": "markdown",
   "metadata": {},
   "source": [
    "Зчитуємо дані"
   ]
  },
  {
   "cell_type": "code",
   "execution_count": 8,
   "metadata": {},
   "outputs": [],
   "source": [
    "df = read_data()"
   ]
  },
  {
   "cell_type": "markdown",
   "metadata": {},
   "source": [
    "Перевіримо результат"
   ]
  },
  {
   "cell_type": "code",
   "execution_count": 9,
   "metadata": {},
   "outputs": [
    {
     "data": {
      "text/html": [
       "<div>\n",
       "<style scoped>\n",
       "    .dataframe tbody tr th:only-of-type {\n",
       "        vertical-align: middle;\n",
       "    }\n",
       "\n",
       "    .dataframe tbody tr th {\n",
       "        vertical-align: top;\n",
       "    }\n",
       "\n",
       "    .dataframe thead th {\n",
       "        text-align: right;\n",
       "    }\n",
       "</style>\n",
       "<table border=\"1\" class=\"dataframe\">\n",
       "  <thead>\n",
       "    <tr style=\"text-align: right;\">\n",
       "      <th></th>\n",
       "      <th>year</th>\n",
       "      <th>week</th>\n",
       "      <th>SMN</th>\n",
       "      <th>SMT</th>\n",
       "      <th>VCI</th>\n",
       "      <th>TCI</th>\n",
       "      <th>VHI</th>\n",
       "      <th>region_index</th>\n",
       "    </tr>\n",
       "  </thead>\n",
       "  <tbody>\n",
       "    <tr>\n",
       "      <th>0</th>\n",
       "      <td>1982</td>\n",
       "      <td>1</td>\n",
       "      <td>0.059</td>\n",
       "      <td>258.24</td>\n",
       "      <td>51.11</td>\n",
       "      <td>48.78</td>\n",
       "      <td>49.95</td>\n",
       "      <td>10</td>\n",
       "    </tr>\n",
       "    <tr>\n",
       "      <th>1</th>\n",
       "      <td>1982</td>\n",
       "      <td>2</td>\n",
       "      <td>0.063</td>\n",
       "      <td>261.53</td>\n",
       "      <td>55.89</td>\n",
       "      <td>38.20</td>\n",
       "      <td>47.04</td>\n",
       "      <td>10</td>\n",
       "    </tr>\n",
       "    <tr>\n",
       "      <th>2</th>\n",
       "      <td>1982</td>\n",
       "      <td>3</td>\n",
       "      <td>0.063</td>\n",
       "      <td>263.45</td>\n",
       "      <td>57.30</td>\n",
       "      <td>32.69</td>\n",
       "      <td>44.99</td>\n",
       "      <td>10</td>\n",
       "    </tr>\n",
       "    <tr>\n",
       "      <th>3</th>\n",
       "      <td>1982</td>\n",
       "      <td>4</td>\n",
       "      <td>0.061</td>\n",
       "      <td>265.10</td>\n",
       "      <td>53.96</td>\n",
       "      <td>28.62</td>\n",
       "      <td>41.29</td>\n",
       "      <td>10</td>\n",
       "    </tr>\n",
       "    <tr>\n",
       "      <th>4</th>\n",
       "      <td>1982</td>\n",
       "      <td>5</td>\n",
       "      <td>0.058</td>\n",
       "      <td>266.42</td>\n",
       "      <td>46.87</td>\n",
       "      <td>28.57</td>\n",
       "      <td>37.72</td>\n",
       "      <td>10</td>\n",
       "    </tr>\n",
       "  </tbody>\n",
       "</table>\n",
       "</div>"
      ],
      "text/plain": [
       "   year  week    SMN     SMT    VCI    TCI    VHI  region_index\n",
       "0  1982     1  0.059  258.24  51.11  48.78  49.95            10\n",
       "1  1982     2  0.063  261.53  55.89  38.20  47.04            10\n",
       "2  1982     3  0.063  263.45  57.30  32.69  44.99            10\n",
       "3  1982     4  0.061  265.10  53.96  28.62  41.29            10\n",
       "4  1982     5  0.058  266.42  46.87  28.57  37.72            10"
      ]
     },
     "execution_count": 9,
     "metadata": {},
     "output_type": "execute_result"
    }
   ],
   "source": [
    "df.head()"
   ]
  },
  {
   "cell_type": "markdown",
   "metadata": {},
   "source": [
    "Як бачимо, читання відбулось правильно"
   ]
  },
  {
   "cell_type": "markdown",
   "metadata": {},
   "source": [
    "Додамо до фрейму назви областей"
   ]
  },
  {
   "cell_type": "code",
   "execution_count": 10,
   "metadata": {},
   "outputs": [],
   "source": [
    "# об'єкт, де ключами є номера областей, а значеннями - їх назви\n",
    "indexes_to_names = {\n",
    "    1: 'Черкаська',\n",
    "    2: 'Чернігівська',\n",
    "    3: 'Чернівецька',\n",
    "    4: 'Республіка Крим',\n",
    "    5: 'Дніпропетровська',\n",
    "    6: 'Донецька',\n",
    "    7: 'Івано-Франківська',\n",
    "    8: 'Харківська',\n",
    "    9: 'Херсонська',\n",
    "    10: 'Хмельницька',\n",
    "    11: 'Київська',\n",
    "    12: 'Місто Київ',\n",
    "    13: 'Кіровоградська',\n",
    "    14: 'Луганська',\n",
    "    15: 'Львівська',\n",
    "    16: 'Миколаївська',\n",
    "    17: 'Одеська',\n",
    "    18: 'Полтавська',\n",
    "    19: 'Рівенська',\n",
    "    20: 'Севастополь',\n",
    "    21: 'Сумська',\n",
    "    22: 'Тернопільська',\n",
    "    23: 'Закарпатська',\n",
    "    24: 'Вінницька',\n",
    "    25: 'Волинська',\n",
    "    26: 'Запорізька',\n",
    "    27: 'Житомирська',\n",
    "}"
   ]
  },
  {
   "cell_type": "code",
   "execution_count": 11,
   "metadata": {},
   "outputs": [],
   "source": [
    "#функція, що додає назви областей\n",
    "def add_region_names(df, names_obj):\n",
    "    df['region_name'] = df['region_index'].map(lambda id: names_obj[id])"
   ]
  },
  {
   "cell_type": "markdown",
   "metadata": {},
   "source": [
    "Застосувуємо створену функцію"
   ]
  },
  {
   "cell_type": "code",
   "execution_count": 12,
   "metadata": {},
   "outputs": [],
   "source": [
    "add_region_names(df, indexes_to_names)"
   ]
  },
  {
   "cell_type": "markdown",
   "metadata": {},
   "source": [
    "Перевіримо"
   ]
  },
  {
   "cell_type": "code",
   "execution_count": 13,
   "metadata": {},
   "outputs": [
    {
     "data": {
      "text/html": [
       "<div>\n",
       "<style scoped>\n",
       "    .dataframe tbody tr th:only-of-type {\n",
       "        vertical-align: middle;\n",
       "    }\n",
       "\n",
       "    .dataframe tbody tr th {\n",
       "        vertical-align: top;\n",
       "    }\n",
       "\n",
       "    .dataframe thead th {\n",
       "        text-align: right;\n",
       "    }\n",
       "</style>\n",
       "<table border=\"1\" class=\"dataframe\">\n",
       "  <thead>\n",
       "    <tr style=\"text-align: right;\">\n",
       "      <th></th>\n",
       "      <th>year</th>\n",
       "      <th>week</th>\n",
       "      <th>SMN</th>\n",
       "      <th>SMT</th>\n",
       "      <th>VCI</th>\n",
       "      <th>TCI</th>\n",
       "      <th>VHI</th>\n",
       "      <th>region_index</th>\n",
       "      <th>region_name</th>\n",
       "    </tr>\n",
       "  </thead>\n",
       "  <tbody>\n",
       "    <tr>\n",
       "      <th>0</th>\n",
       "      <td>1982</td>\n",
       "      <td>1</td>\n",
       "      <td>0.059</td>\n",
       "      <td>258.24</td>\n",
       "      <td>51.11</td>\n",
       "      <td>48.78</td>\n",
       "      <td>49.95</td>\n",
       "      <td>10</td>\n",
       "      <td>Хмельницька</td>\n",
       "    </tr>\n",
       "    <tr>\n",
       "      <th>1</th>\n",
       "      <td>1982</td>\n",
       "      <td>2</td>\n",
       "      <td>0.063</td>\n",
       "      <td>261.53</td>\n",
       "      <td>55.89</td>\n",
       "      <td>38.20</td>\n",
       "      <td>47.04</td>\n",
       "      <td>10</td>\n",
       "      <td>Хмельницька</td>\n",
       "    </tr>\n",
       "    <tr>\n",
       "      <th>2</th>\n",
       "      <td>1982</td>\n",
       "      <td>3</td>\n",
       "      <td>0.063</td>\n",
       "      <td>263.45</td>\n",
       "      <td>57.30</td>\n",
       "      <td>32.69</td>\n",
       "      <td>44.99</td>\n",
       "      <td>10</td>\n",
       "      <td>Хмельницька</td>\n",
       "    </tr>\n",
       "    <tr>\n",
       "      <th>3</th>\n",
       "      <td>1982</td>\n",
       "      <td>4</td>\n",
       "      <td>0.061</td>\n",
       "      <td>265.10</td>\n",
       "      <td>53.96</td>\n",
       "      <td>28.62</td>\n",
       "      <td>41.29</td>\n",
       "      <td>10</td>\n",
       "      <td>Хмельницька</td>\n",
       "    </tr>\n",
       "    <tr>\n",
       "      <th>4</th>\n",
       "      <td>1982</td>\n",
       "      <td>5</td>\n",
       "      <td>0.058</td>\n",
       "      <td>266.42</td>\n",
       "      <td>46.87</td>\n",
       "      <td>28.57</td>\n",
       "      <td>37.72</td>\n",
       "      <td>10</td>\n",
       "      <td>Хмельницька</td>\n",
       "    </tr>\n",
       "  </tbody>\n",
       "</table>\n",
       "</div>"
      ],
      "text/plain": [
       "   year  week    SMN     SMT    VCI    TCI    VHI  region_index  region_name\n",
       "0  1982     1  0.059  258.24  51.11  48.78  49.95            10  Хмельницька\n",
       "1  1982     2  0.063  261.53  55.89  38.20  47.04            10  Хмельницька\n",
       "2  1982     3  0.063  263.45  57.30  32.69  44.99            10  Хмельницька\n",
       "3  1982     4  0.061  265.10  53.96  28.62  41.29            10  Хмельницька\n",
       "4  1982     5  0.058  266.42  46.87  28.57  37.72            10  Хмельницька"
      ]
     },
     "execution_count": 13,
     "metadata": {},
     "output_type": "execute_result"
    }
   ],
   "source": [
    "df.head()"
   ]
  },
  {
   "cell_type": "markdown",
   "metadata": {},
   "source": [
    "Як бачимо, було додано стовпець region_name"
   ]
  },
  {
   "cell_type": "markdown",
   "metadata": {},
   "source": [
    "Тепер реалізуємо процедури вибірок"
   ]
  },
  {
   "cell_type": "code",
   "execution_count": 14,
   "metadata": {},
   "outputs": [],
   "source": [
    "#ряд VHI для заданої області за рік, якщо рік не задано, повертаються дані за всі роки\n",
    "def vhi_series(df, region_name, year=None):\n",
    "    result_df = df[df['region_name'] == region_name]\n",
    "    if year:\n",
    "        result_df = result_df[result_df['year'] == year]\n",
    "    return result_df['VHI']\n",
    "\n",
    "#максимум ряду VHI для заданої області за рік, якщо рік не задано, використовуються дані за всі роки\n",
    "def max_vhi(df, region_name, year=None):\n",
    "    return vhi_series(df, region_name, year).max()\n",
    "\n",
    "#мінімум ряду VHI для заданої області за рік, якщо рік не задано, використовуються дані за всі роки\n",
    "def min_vhi(df, region_name, year=None):\n",
    "    return vhi_series(df, region_name, None).min()"
   ]
  },
  {
   "cell_type": "markdown",
   "metadata": {},
   "source": [
    "Протестуємо роботу функцій"
   ]
  },
  {
   "cell_type": "code",
   "execution_count": 15,
   "metadata": {},
   "outputs": [
    {
     "name": "stdout",
     "output_type": "stream",
     "text": [
      "ряд VHI для Хмельницька:\n",
      " [49.95 47.04 44.99 ... 49.04 51.52 55.04]\n",
      "максимум: 79.4\n",
      "мінімум: 18.41\n"
     ]
    }
   ],
   "source": [
    "region_name = 'Хмельницька'\n",
    "series = vhi_series(df, region_name)\n",
    "print(f'ряд VHI для {region_name}:\\n', series.values)\n",
    "\n",
    "max = max_vhi(df, region_name)\n",
    "print('максимум:', max)\n",
    "\n",
    "min = min_vhi(df, region_name)\n",
    "print('мінімум:', min)"
   ]
  },
  {
   "cell_type": "markdown",
   "metadata": {},
   "source": [
    "Як бачимо, результати є правильними"
   ]
  },
  {
   "cell_type": "markdown",
   "metadata": {},
   "source": [
    "Реалізуємо інші функції"
   ]
  },
  {
   "cell_type": "code",
   "execution_count": 16,
   "metadata": {},
   "outputs": [],
   "source": [
    "#роки з екстремальними посухами для заданої області\n",
    "def years_with_extreme_droughts(df, region_name):\n",
    "    return df[(df['region_name'] == region_name) & (df['VHI'] < 15)]['year'].unique()\n",
    "\n",
    "#роки з помірними посухами для заданої області\n",
    "def years_with_moderate_droughts(df, region_name):\n",
    "    return df[(df['region_name'] == region_name) & (df['VHI'] < 35) & (df['VHI'] > 15)]['year'].unique()"
   ]
  },
  {
   "cell_type": "markdown",
   "metadata": {},
   "source": [
    "Перевіримо їх роботу"
   ]
  },
  {
   "cell_type": "code",
   "execution_count": 17,
   "metadata": {},
   "outputs": [
    {
     "name": "stdout",
     "output_type": "stream",
     "text": [
      "роки з екстремальними посухами у Місто Київ:\n",
      " [1999 2000]\n",
      "роки з помірними посухами у Місто Київ:\n",
      " [1982 1984 1985 1986 1987 1988 1989 1990 1991 1992 1993 1994 1995 1996\n",
      " 1999 2000 2001 2006 2008 2009 2010 2011 2012 2013 2015 2019 2020 2021\n",
      " 2022 2023]\n"
     ]
    }
   ],
   "source": [
    "region_name = 'Місто Київ'\n",
    "extreme = years_with_extreme_droughts(df, 'Місто Київ')\n",
    "print(f'роки з екстремальними посухами у {region_name}:\\n', extreme)\n",
    "\n",
    "moderate = years_with_moderate_droughts(df, 'Місто Київ')\n",
    "print(f'роки з помірними посухами у {region_name}:\\n', moderate)"
   ]
  },
  {
   "cell_type": "markdown",
   "metadata": {},
   "source": [
    "Як бачимо, результати є правильними"
   ]
  }
 ],
 "metadata": {
  "kernelspec": {
   "display_name": "Python 3",
   "language": "python",
   "name": "python3"
  },
  "language_info": {
   "codemirror_mode": {
    "name": "ipython",
    "version": 3
   },
   "file_extension": ".py",
   "mimetype": "text/x-python",
   "name": "python",
   "nbconvert_exporter": "python",
   "pygments_lexer": "ipython3",
   "version": "3.11.4"
  }
 },
 "nbformat": 4,
 "nbformat_minor": 2
}
